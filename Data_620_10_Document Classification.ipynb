{
 "cells": [
  {
   "cell_type": "markdown",
   "id": "70c667de",
   "metadata": {},
   "source": [
    "## **NLP: Document Classification**\n",
    "\n",
    "**Submitted by:** Euclides Rodriguez \n",
    "\n",
    "**Course:** CUNY DATA 620\n",
    "\n",
    "**Data Source:** https://archive.ics.uci.edu/dataset/94/spambase"
   ]
  },
  {
   "cell_type": "code",
   "execution_count": 60,
   "id": "9c31894a",
   "metadata": {},
   "outputs": [],
   "source": [
    "import nltk\n",
    "from nltk.probability import FreqDist\n",
    "import random\n",
    "import pandas as pd "
   ]
  },
  {
   "cell_type": "code",
   "execution_count": 61,
   "id": "1032c421",
   "metadata": {},
   "outputs": [],
   "source": [
    "#Import Data \n",
    "\n",
    "df = pd.read_csv('SMSSpamCollection.txt', sep='\\t', header=None, names=['Class', 'Text'])"
   ]
  },
  {
   "cell_type": "code",
   "execution_count": 62,
   "id": "d24d22db",
   "metadata": {},
   "outputs": [
    {
     "data": {
      "text/html": [
       "<div>\n",
       "<style scoped>\n",
       "    .dataframe tbody tr th:only-of-type {\n",
       "        vertical-align: middle;\n",
       "    }\n",
       "\n",
       "    .dataframe tbody tr th {\n",
       "        vertical-align: top;\n",
       "    }\n",
       "\n",
       "    .dataframe thead th {\n",
       "        text-align: right;\n",
       "    }\n",
       "</style>\n",
       "<table border=\"1\" class=\"dataframe\">\n",
       "  <thead>\n",
       "    <tr style=\"text-align: right;\">\n",
       "      <th></th>\n",
       "      <th>Class</th>\n",
       "      <th>Text</th>\n",
       "    </tr>\n",
       "  </thead>\n",
       "  <tbody>\n",
       "    <tr>\n",
       "      <th>0</th>\n",
       "      <td>ham</td>\n",
       "      <td>Go until jurong point, crazy.. Available only ...</td>\n",
       "    </tr>\n",
       "    <tr>\n",
       "      <th>1</th>\n",
       "      <td>ham</td>\n",
       "      <td>Ok lar... Joking wif u oni...</td>\n",
       "    </tr>\n",
       "    <tr>\n",
       "      <th>2</th>\n",
       "      <td>spam</td>\n",
       "      <td>Free entry in 2 a wkly comp to win FA Cup fina...</td>\n",
       "    </tr>\n",
       "    <tr>\n",
       "      <th>3</th>\n",
       "      <td>ham</td>\n",
       "      <td>U dun say so early hor... U c already then say...</td>\n",
       "    </tr>\n",
       "    <tr>\n",
       "      <th>4</th>\n",
       "      <td>ham</td>\n",
       "      <td>Nah I don't think he goes to usf, he lives aro...</td>\n",
       "    </tr>\n",
       "    <tr>\n",
       "      <th>5</th>\n",
       "      <td>spam</td>\n",
       "      <td>FreeMsg Hey there darling it's been 3 week's n...</td>\n",
       "    </tr>\n",
       "    <tr>\n",
       "      <th>6</th>\n",
       "      <td>ham</td>\n",
       "      <td>Even my brother is not like to speak with me. ...</td>\n",
       "    </tr>\n",
       "    <tr>\n",
       "      <th>7</th>\n",
       "      <td>ham</td>\n",
       "      <td>As per your request 'Melle Melle (Oru Minnamin...</td>\n",
       "    </tr>\n",
       "    <tr>\n",
       "      <th>8</th>\n",
       "      <td>spam</td>\n",
       "      <td>WINNER!! As a valued network customer you have...</td>\n",
       "    </tr>\n",
       "    <tr>\n",
       "      <th>9</th>\n",
       "      <td>spam</td>\n",
       "      <td>Had your mobile 11 months or more? U R entitle...</td>\n",
       "    </tr>\n",
       "  </tbody>\n",
       "</table>\n",
       "</div>"
      ],
      "text/plain": [
       "  Class                                               Text\n",
       "0   ham  Go until jurong point, crazy.. Available only ...\n",
       "1   ham                      Ok lar... Joking wif u oni...\n",
       "2  spam  Free entry in 2 a wkly comp to win FA Cup fina...\n",
       "3   ham  U dun say so early hor... U c already then say...\n",
       "4   ham  Nah I don't think he goes to usf, he lives aro...\n",
       "5  spam  FreeMsg Hey there darling it's been 3 week's n...\n",
       "6   ham  Even my brother is not like to speak with me. ...\n",
       "7   ham  As per your request 'Melle Melle (Oru Minnamin...\n",
       "8  spam  WINNER!! As a valued network customer you have...\n",
       "9  spam  Had your mobile 11 months or more? U R entitle..."
      ]
     },
     "execution_count": 62,
     "metadata": {},
     "output_type": "execute_result"
    }
   ],
   "source": [
    "df.head(10)"
   ]
  },
  {
   "cell_type": "code",
   "execution_count": 63,
   "id": "674416f6",
   "metadata": {},
   "outputs": [],
   "source": [
    "# Convert text to lowercase\n",
    "df['Text'] = df['Text'].str.lower()\n",
    "\n",
    "# Tokenize text column\n",
    "df['Text'] = df['Text'].str.split()\n"
   ]
  },
  {
   "cell_type": "code",
   "execution_count": 64,
   "id": "41560adf",
   "metadata": {},
   "outputs": [],
   "source": [
    "documents = list(zip( df['Text'],df['Class']))"
   ]
  },
  {
   "cell_type": "code",
   "execution_count": 65,
   "id": "0f9bd499",
   "metadata": {},
   "outputs": [
    {
     "data": {
      "text/plain": [
       "(['go',\n",
       "  'until',\n",
       "  'jurong',\n",
       "  'point,',\n",
       "  'crazy..',\n",
       "  'available',\n",
       "  'only',\n",
       "  'in',\n",
       "  'bugis',\n",
       "  'n',\n",
       "  'great',\n",
       "  'world',\n",
       "  'la',\n",
       "  'e',\n",
       "  'buffet...',\n",
       "  'cine',\n",
       "  'there',\n",
       "  'got',\n",
       "  'amore',\n",
       "  'wat...'],\n",
       " 'ham')"
      ]
     },
     "execution_count": 65,
     "metadata": {},
     "output_type": "execute_result"
    }
   ],
   "source": [
    "documents[0]"
   ]
  },
  {
   "cell_type": "code",
   "execution_count": 66,
   "id": "17e5beee",
   "metadata": {},
   "outputs": [],
   "source": [
    "random.shuffle(documents)"
   ]
  },
  {
   "cell_type": "code",
   "execution_count": 67,
   "id": "9297d037",
   "metadata": {},
   "outputs": [
    {
     "name": "stdout",
     "output_type": "stream",
     "text": [
      "[('to', 2237), ('i', 2217), ('you', 1921), ('a', 1433), ('the', 1329), ('u', 998), ('and', 968), ('is', 869), ('in', 859), ('my', 755)]\n"
     ]
    }
   ],
   "source": [
    "# Flatten all tokens into a single list\n",
    "all_tokens = [token for tokens in df['Text'] for token in tokens]\n",
    "\n",
    "# Compute frequency distribution\n",
    "fdist = FreqDist(all_tokens)\n",
    "\n",
    "print(fdist.most_common(10))"
   ]
  },
  {
   "cell_type": "code",
   "execution_count": 68,
   "id": "dfdda8af",
   "metadata": {},
   "outputs": [
    {
     "data": {
      "text/plain": [
       "86909"
      ]
     },
     "execution_count": 68,
     "metadata": {},
     "output_type": "execute_result"
    }
   ],
   "source": [
    "len(all_tokens)"
   ]
  },
  {
   "cell_type": "code",
   "execution_count": 73,
   "id": "148e8fff",
   "metadata": {},
   "outputs": [],
   "source": [
    "# Get top 2000 most frequent words\n",
    "top_2000 = fdist.most_common(2000)"
   ]
  },
  {
   "cell_type": "code",
   "execution_count": 76,
   "id": "1f69b924",
   "metadata": {},
   "outputs": [],
   "source": [
    "# Extract the top 2000 words into a list  \n",
    "word_features = [word for word, freq in top_2000]"
   ]
  },
  {
   "cell_type": "code",
   "execution_count": 82,
   "id": "5f7a34af",
   "metadata": {},
   "outputs": [],
   "source": [
    "def document_features(document):\n",
    "    document_words = set(document)\n",
    "    features = {}\n",
    "    for word in word_features:\n",
    "        features['contains(%s)' % word] = (word in document_words)\n",
    "    return features\n",
    "    "
   ]
  },
  {
   "cell_type": "code",
   "execution_count": 93,
   "id": "f6255d1d",
   "metadata": {},
   "outputs": [],
   "source": [
    "featuresets = [(document_features(d), c) for (d,c) in documents]\n",
    "train_set, test_set = featuresets[1671:], featuresets[:3900]\n",
    "classifier = nltk.NaiveBayesClassifier.train(train_set)"
   ]
  },
  {
   "cell_type": "code",
   "execution_count": 94,
   "id": "f23da7ee",
   "metadata": {},
   "outputs": [
    {
     "data": {
      "text/plain": [
       "5572"
      ]
     },
     "execution_count": 94,
     "metadata": {},
     "output_type": "execute_result"
    }
   ],
   "source": [
    "len(featuresets)"
   ]
  },
  {
   "cell_type": "code",
   "execution_count": 95,
   "id": "6baa7c5d",
   "metadata": {},
   "outputs": [
    {
     "data": {
      "text/plain": [
       "0.9849"
      ]
     },
     "execution_count": 95,
     "metadata": {},
     "output_type": "execute_result"
    }
   ],
   "source": [
    "round(nltk.classify.accuracy(classifier, test_set),4)"
   ]
  },
  {
   "cell_type": "code",
   "execution_count": 96,
   "id": "240511dd",
   "metadata": {},
   "outputs": [
    {
     "name": "stdout",
     "output_type": "stream",
     "text": [
      "Most Informative Features\n",
      "        contains(latest) = True             spam : ham    =    118.5 : 1.0\n",
      "         contains(video) = True             spam : ham    =     96.9 : 1.0\n",
      "          contains(now!) = True             spam : ham    =     95.1 : 1.0\n",
      "            contains(16) = True             spam : ham    =     92.6 : 1.0\n",
      "       contains(network) = True             spam : ham    =     79.7 : 1.0\n",
      "         contains(await) = True             spam : ham    =     75.4 : 1.0\n",
      "          contains(draw) = True             spam : ham    =     71.1 : 1.0\n",
      "       contains(service) = True             spam : ham    =     65.6 : 1.0\n",
      "           contains(txt) = True             spam : ham    =     63.5 : 1.0\n",
      "        contains(pounds) = True             spam : ham    =     62.5 : 1.0\n"
     ]
    }
   ],
   "source": [
    " classifier.show_most_informative_features(10)"
   ]
  }
 ],
 "metadata": {
  "kernelspec": {
   "display_name": "Python 3",
   "language": "python",
   "name": "python3"
  },
  "language_info": {
   "codemirror_mode": {
    "name": "ipython",
    "version": 3
   },
   "file_extension": ".py",
   "mimetype": "text/x-python",
   "name": "python",
   "nbconvert_exporter": "python",
   "pygments_lexer": "ipython3",
   "version": "3.12.0"
  }
 },
 "nbformat": 4,
 "nbformat_minor": 5
}
